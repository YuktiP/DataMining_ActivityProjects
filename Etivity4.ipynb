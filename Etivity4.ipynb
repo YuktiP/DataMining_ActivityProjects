{
 "cells": [
  {
   "cell_type": "markdown",
   "metadata": {
    "id": "yYf0Vbs0G7Od"
   },
   "source": [
    "Etivity 4 - Yukti Patil "
   ]
  },
  {
   "cell_type": "markdown",
   "metadata": {
    "id": "q1ca78E3G2OU"
   },
   "source": [
    "# Import all Libraries"
   ]
  },
  {
   "cell_type": "code",
   "execution_count": 1,
   "metadata": {
    "id": "upoe7j5SlqAo"
   },
   "outputs": [],
   "source": [
    "import pandas as pd\n",
    "import numpy as np\n",
    "from sklearn.pipeline import Pipeline, make_pipeline, FeatureUnion\n",
    "from sklearn.compose import ColumnTransformer\n",
    "from sklearn.base import BaseEstimator, TransformerMixin\n",
    "from sklearn.preprocessing import StandardScaler, RobustScaler, FunctionTransformer\n",
    "from sklearn.model_selection import train_test_split, GridSearchCV\n",
    "from sklearn import svm\n",
    "from sklearn.ensemble import RandomForestClassifier\n",
    "from sklearn.metrics import roc_curve, auc, accuracy_score, precision_recall_fscore_support\n",
    "from scipy import interp\n",
    "import pickle\n",
    "import matplotlib.pyplot as plt\n",
    "%matplotlib inline\n",
    "from sklearn.neural_network import MLPClassifier"
   ]
  },
  {
   "cell_type": "markdown",
   "metadata": {
    "id": "J9AItK_a61q8"
   },
   "source": [
    "# Read Data and Exploratory Data Analysis"
   ]
  },
  {
   "cell_type": "code",
   "execution_count": 2,
   "metadata": {
    "colab": {
     "base_uri": "https://localhost:8080/",
     "height": 204
    },
    "id": "5gD8mv3Llqrq",
    "outputId": "0eb2217d-7273-4ec7-a09c-ae90899ce77f"
   },
   "outputs": [
    {
     "data": {
      "text/html": [
       "<div>\n",
       "<style scoped>\n",
       "    .dataframe tbody tr th:only-of-type {\n",
       "        vertical-align: middle;\n",
       "    }\n",
       "\n",
       "    .dataframe tbody tr th {\n",
       "        vertical-align: top;\n",
       "    }\n",
       "\n",
       "    .dataframe thead th {\n",
       "        text-align: right;\n",
       "    }\n",
       "</style>\n",
       "<table border=\"1\" class=\"dataframe\">\n",
       "  <thead>\n",
       "    <tr style=\"text-align: right;\">\n",
       "      <th></th>\n",
       "      <th>area</th>\n",
       "      <th>perimeter</th>\n",
       "      <th>compactness</th>\n",
       "      <th>length of kernel</th>\n",
       "      <th>width of kernel</th>\n",
       "      <th>asymmetry coefficient</th>\n",
       "      <th>length of kernel groove</th>\n",
       "      <th>type</th>\n",
       "    </tr>\n",
       "  </thead>\n",
       "  <tbody>\n",
       "    <tr>\n",
       "      <th>0</th>\n",
       "      <td>15.26</td>\n",
       "      <td>14.84</td>\n",
       "      <td>0.8710</td>\n",
       "      <td>5.763</td>\n",
       "      <td>3.312</td>\n",
       "      <td>2.221</td>\n",
       "      <td>5.220</td>\n",
       "      <td>1</td>\n",
       "    </tr>\n",
       "    <tr>\n",
       "      <th>1</th>\n",
       "      <td>14.88</td>\n",
       "      <td>14.57</td>\n",
       "      <td>0.8811</td>\n",
       "      <td>5.554</td>\n",
       "      <td>3.333</td>\n",
       "      <td>1.018</td>\n",
       "      <td>4.956</td>\n",
       "      <td>1</td>\n",
       "    </tr>\n",
       "    <tr>\n",
       "      <th>2</th>\n",
       "      <td>14.29</td>\n",
       "      <td>14.09</td>\n",
       "      <td>0.9050</td>\n",
       "      <td>5.291</td>\n",
       "      <td>3.337</td>\n",
       "      <td>2.699</td>\n",
       "      <td>4.825</td>\n",
       "      <td>1</td>\n",
       "    </tr>\n",
       "    <tr>\n",
       "      <th>3</th>\n",
       "      <td>13.84</td>\n",
       "      <td>13.94</td>\n",
       "      <td>0.8955</td>\n",
       "      <td>5.324</td>\n",
       "      <td>3.379</td>\n",
       "      <td>2.259</td>\n",
       "      <td>4.805</td>\n",
       "      <td>1</td>\n",
       "    </tr>\n",
       "    <tr>\n",
       "      <th>4</th>\n",
       "      <td>16.14</td>\n",
       "      <td>14.99</td>\n",
       "      <td>0.9034</td>\n",
       "      <td>5.658</td>\n",
       "      <td>3.562</td>\n",
       "      <td>1.355</td>\n",
       "      <td>5.175</td>\n",
       "      <td>1</td>\n",
       "    </tr>\n",
       "  </tbody>\n",
       "</table>\n",
       "</div>"
      ],
      "text/plain": [
       "    area  perimeter  compactness  length of kernel  width of kernel  \\\n",
       "0  15.26      14.84       0.8710             5.763            3.312   \n",
       "1  14.88      14.57       0.8811             5.554            3.333   \n",
       "2  14.29      14.09       0.9050             5.291            3.337   \n",
       "3  13.84      13.94       0.8955             5.324            3.379   \n",
       "4  16.14      14.99       0.9034             5.658            3.562   \n",
       "\n",
       "   asymmetry coefficient  length of kernel groove  type  \n",
       "0                  2.221                    5.220     1  \n",
       "1                  1.018                    4.956     1  \n",
       "2                  2.699                    4.825     1  \n",
       "3                  2.259                    4.805     1  \n",
       "4                  1.355                    5.175     1  "
      ]
     },
     "execution_count": 2,
     "metadata": {},
     "output_type": "execute_result"
    }
   ],
   "source": [
    "df = pd.read_csv(\"./seeds.csv\")\n",
    "df.head()"
   ]
  },
  {
   "cell_type": "markdown",
   "metadata": {
    "id": "Iz7pWRz88CEn"
   },
   "source": [
    "### Check how many values are contained in each type. \n",
    "### The data has 3 classes of seeds"
   ]
  },
  {
   "cell_type": "code",
   "execution_count": 3,
   "metadata": {
    "colab": {
     "base_uri": "https://localhost:8080/"
    },
    "id": "iuydUkCvlviX",
    "outputId": "ae75d16c-c8f4-4463-e754-c34f852b9ec3"
   },
   "outputs": [
    {
     "data": {
      "text/plain": [
       "3    70\n",
       "2    70\n",
       "1    70\n",
       "Name: type, dtype: int64"
      ]
     },
     "execution_count": 3,
     "metadata": {},
     "output_type": "execute_result"
    }
   ],
   "source": [
    "df['type'].value_counts()"
   ]
  },
  {
   "cell_type": "markdown",
   "metadata": {
    "id": "LpLDAFn68SiC"
   },
   "source": [
    "### Check for missing values"
   ]
  },
  {
   "cell_type": "code",
   "execution_count": 4,
   "metadata": {
    "colab": {
     "base_uri": "https://localhost:8080/"
    },
    "id": "QtbfeMj1l4wF",
    "outputId": "3ed06063-3b99-425a-cf96-b2488ec99669"
   },
   "outputs": [
    {
     "data": {
      "text/plain": [
       "area                       0\n",
       "perimeter                  0\n",
       "compactness                0\n",
       "length of kernel           0\n",
       "width of kernel            0\n",
       "asymmetry coefficient      0\n",
       "length of kernel groove    0\n",
       "type                       0\n",
       "dtype: int64"
      ]
     },
     "execution_count": 4,
     "metadata": {},
     "output_type": "execute_result"
    }
   ],
   "source": [
    "df.isna().sum()"
   ]
  },
  {
   "cell_type": "markdown",
   "metadata": {
    "id": "McC8R63m8cMn"
   },
   "source": [
    "### Draw a box plot to check for any outliers"
   ]
  },
  {
   "cell_type": "code",
   "execution_count": 5,
   "metadata": {
    "colab": {
     "base_uri": "https://localhost:8080/",
     "height": 320
    },
    "id": "O__nk58Pl8gl",
    "outputId": "69424d84-96a0-4270-c6ae-bffa241e4749"
   },
   "outputs": [
    {
     "data": {
      "image/png": "[encoded data removed]",
      "text/plain": [
       "<Figure size 1440x360 with 1 Axes>"
      ]
     },
     "metadata": {
      "needs_background": "light"
     },
     "output_type": "display_data"
    }
   ],
   "source": [
    "df.loc[:,'area':'length of kernel groove'].boxplot(figsize=(20,5))\n",
    "plt.show()"
   ]
  },
  {
   "cell_type": "markdown",
   "metadata": {
    "id": "FU99QAhO8rAy"
   },
   "source": [
    "### Taking a look at the Box Plot\n",
    "### Looking at the box plot Compactness and Asymmetry_coefficient can be examined in detail. So we create box plots for them to single them out and check for outliers"
   ]
  },
  {
   "cell_type": "code",
   "execution_count": 6,
   "metadata": {
    "colab": {
     "base_uri": "https://localhost:8080/",
     "height": 592
    },
    "id": "Q0fyLuOS9E5X",
    "outputId": "4d98bb39-8245-4a4b-99ff-f09366b12457"
   },
   "outputs": [
    {
     "data": {
      "image/png": "[encoded data removed]",
      "text/plain": [
       "<Figure size 360x720 with 1 Axes>"
      ]
     },
     "metadata": {
      "needs_background": "light"
     },
     "output_type": "display_data"
    }
   ],
   "source": [
    "df.loc[:,'asymmetry coefficient':'asymmetry coefficient'].boxplot(figsize=(5,10))\n",
    "plt.show()"
   ]
  },
  {
   "cell_type": "code",
   "execution_count": 7,
   "metadata": {
    "colab": {
     "base_uri": "https://localhost:8080/",
     "height": 592
    },
    "id": "yyq4soII9JeE",
    "outputId": "a4804a73-d3b9-445d-819e-90913c94a850"
   },
   "outputs": [
    {
     "data": {
      "image/png": "[encoded data removed]",
      "text/plain": [
       "<Figure size 360x720 with 1 Axes>"
      ]
     },
     "metadata": {
      "needs_background": "light"
     },
     "output_type": "display_data"
    }
   ],
   "source": [
    "df.loc[:,'compactness':'compactness'].boxplot(figsize=(5,10))\n",
    "plt.show()"
   ]
  },
  {
   "cell_type": "markdown",
   "metadata": {
    "id": "c45FiOo59ljI"
   },
   "source": [
    "### Observations\n",
    "### The two columns Compactness and Asymmetry_coefficient do not seem to have very prominent outliers. However they are outlier columns. We will apply log transformation followed by **RobustScaler** to them. To all other predictor columns we will apply **StandardScaler**.  "
   ]
  },
  {
   "cell_type": "markdown",
   "metadata": {
    "id": "GAY-Wgkz8qOW"
   },
   "source": [
    "# Data Preparation\n",
    "\n",
    "### To do a binary classification on type, we need to reduce the three types down to two types.\n",
    "### choosing to combine Kama and Rosa into one group."
   ]
  },
  {
   "cell_type": "code",
   "execution_count": 8,
   "metadata": {
    "colab": {
     "base_uri": "https://localhost:8080/"
    },
    "id": "PekyhWhk7OZC",
    "outputId": "8db0fa36-f542-431c-e006-5062108419f5"
   },
   "outputs": [
    {
     "data": {
      "text/plain": [
       "0    140\n",
       "1     70\n",
       "Name: type, dtype: int64"
      ]
     },
     "execution_count": 8,
     "metadata": {},
     "output_type": "execute_result"
    }
   ],
   "source": [
    "mapper = {1: 0, 2: 0, 3: 1}\n",
    "df['type'] = df['type'].replace(mapper)\n",
    "df['type'].value_counts()"
   ]
  },
  {
   "cell_type": "markdown",
   "metadata": {
    "id": "hmj3ZPQT_iR8"
   },
   "source": [
    "### Prepare two lists of column names. The list `names_outliers` contains the names of the three columns to which we will apply log transformation followed by `RobustScaler`. The list `names_no_outliers` contains the names of all other predictor columns to which we will apply `StandardScaler`."
   ]
  },
  {
   "cell_type": "code",
   "execution_count": 9,
   "metadata": {
    "id": "aGDXeRVC_nWZ"
   },
   "outputs": [],
   "source": [
    "# store a list with the names of all predictors\n",
    "names_all = [c for c in df if c not in ['type']]\n",
    "\n",
    "# define column groups with same data preparation\n",
    "names_outliers = ['compactness', 'asymmetry coefficient']\n",
    "names_no_outliers = list(set(names_all) - set(names_outliers))"
   ]
  },
  {
   "cell_type": "markdown",
   "metadata": {
    "id": "QQEtuDab_xfL"
   },
   "source": [
    "### Transformation and Pipelining"
   ]
  },
  {
   "cell_type": "code",
   "execution_count": 10,
   "metadata": {
    "id": "wdilhAiX9vG5"
   },
   "outputs": [],
   "source": [
    "class AddColumnNames(BaseEstimator, TransformerMixin):\n",
    "    def __init__(self, columns):\n",
    "        self.columns = columns\n",
    "\n",
    "    def fit(self, X, y=None):\n",
    "        return self\n",
    "\n",
    "    def transform(self, X):\n",
    "        return pd.DataFrame(data=X, columns=self.columns)\n",
    "\n",
    "class ColumnSelector(BaseEstimator, TransformerMixin):\n",
    "    def __init__(self, columns):\n",
    "        self.columns = columns\n",
    "\n",
    "    def fit(self, X, y=None):\n",
    "        return self\n",
    "\n",
    "    def transform(self, X):\n",
    "        assert isinstance(X, pd.DataFrame)\n",
    "        return X[self.columns]"
   ]
  },
  {
   "cell_type": "markdown",
   "metadata": {
    "id": "IoO_ZwmrAC_K"
   },
   "source": [
    "### Pipelines constructed for scaling , for performing parallel execution"
   ]
  },
  {
   "cell_type": "code",
   "execution_count": 11,
   "metadata": {
    "id": "VgPppbQK-JVG"
   },
   "outputs": [],
   "source": [
    "preprocess_pipeline = make_pipeline(\n",
    "    AddColumnNames(columns=names_all),\n",
    "    FeatureUnion(transformer_list=[\n",
    "        (\"outlier_columns\", make_pipeline(\n",
    "            ColumnSelector(columns=names_outliers),\n",
    "            FunctionTransformer(np.log, validate=True),\n",
    "            RobustScaler()\n",
    "        )),\n",
    "        (\"no_outlier_columns\", make_pipeline(\n",
    "            ColumnSelector(columns=names_no_outliers),\n",
    "            StandardScaler()\n",
    "        ))\n",
    "    ])\n",
    ")"
   ]
  },
  {
   "cell_type": "markdown",
   "metadata": {
    "id": "knkIm_VpAGQP"
   },
   "source": [
    "### Split train and test data"
   ]
  },
  {
   "cell_type": "code",
   "execution_count": 12,
   "metadata": {
    "id": "t73NE17Q-PAA"
   },
   "outputs": [],
   "source": [
    "y = df['type']\n",
    "X = df.drop('type', axis=1).values\n",
    "\n",
    "X_train, X_test, y_train, y_test = train_test_split(X, y, test_size=0.2, shuffle=True, stratify=y)"
   ]
  },
  {
   "cell_type": "markdown",
   "metadata": {
    "id": "p-r_Nda4Afp3"
   },
   "source": [
    "# Grid Search for best Classifiers"
   ]
  },
  {
   "cell_type": "markdown",
   "metadata": {
    "id": "6YMaZyYVAzpv"
   },
   "source": [
    "## SVM Classifier"
   ]
  },
  {
   "cell_type": "code",
   "execution_count": 16,
   "metadata": {
    "colab": {
     "base_uri": "https://localhost:8080/"
    },
    "id": "grY0NfigA2MF",
    "outputId": "799ae647-ae85-4eb2-c669-c198a7fd929b"
   },
   "outputs": [
    {
     "name": "stdout",
     "output_type": "stream",
     "text": [
      "SVC(C=1.0, break_ties=False, cache_size=200, class_weight=None, coef0=0.0,\n",
      "    decision_function_shape='ovr', degree=3, gamma='scale', kernel='rbf',\n",
      "    max_iter=-1, probability=True, random_state=None, shrinking=True, tol=0.001,\n",
      "    verbose=False)\n"
     ]
    }
   ],
   "source": [
    "from sklearn import set_config\n",
    "from sklearn import svm\n",
    "# Create the estimator\n",
    "estimator_svm = svm.SVC(probability=True)\n",
    "#print the estimator\n",
    "set_config(print_changed_only=False)\n",
    "print(estimator_svm)"
   ]
  },
  {
   "cell_type": "markdown",
   "metadata": {
    "id": "f_Y5mwFqBw0K"
   },
   "source": [
    "### We can see all the hyperparameters to tune the Support Vector Machine Classifier. Upon trying various values for the hyperparameters, it was observed A higher C will cause the model to misclassify less, but is much more likely to cause overfit.\n",
    "Using Additional parameter class_weight. This allows you to place greater emphasis on a class. For example, if the distribution between class 1 and class 2 is heavily imbalanced, the model can treat the two distributions appropriately.  “Balanced” will create class weights that are inversely proportional to class frequencies, giving more weight to individual occurrences of smaller classes."
   ]
  },
  {
   "cell_type": "code",
   "execution_count": 17,
   "metadata": {
    "colab": {
     "base_uri": "https://localhost:8080/"
    },
    "id": "q62pwU18-Xsp",
    "outputId": "265fd939-7aaf-40ca-eeb4-d4c5102c7db9"
   },
   "outputs": [
    {
     "name": "stdout",
     "output_type": "stream",
     "text": [
      "Best CV score = 0.970:\n",
      "Best parameters:  {'svm__C': 0.1, 'svm__class_weight': 'balanced', 'svm__gamma': 1, 'svm__kernel': 'poly'}\n"
     ]
    },
    {
     "name": "stderr",
     "output_type": "stream",
     "text": [
      "/Users/yuktipatil/opt/anaconda3/lib/python3.8/site-packages/sklearn/model_selection/_search.py:847: FutureWarning: The parameter 'iid' is deprecated in 0.22 and will be removed in 0.24.\n",
      "  warnings.warn(\n"
     ]
    }
   ],
   "source": [
    "# create the pipeline\n",
    "pipe = Pipeline(steps=[('preprocess', preprocess_pipeline), ('svm', estimator_svm)])\n",
    "\n",
    "# prepare a prameter grid\n",
    "# note that __ can be used to specify the name of a parameter for a specific element in a pipeline\n",
    "# note also that this is not an exhaustive list of the parameters of svn.SVC and their possible values\n",
    "\n",
    "param_grid = {\n",
    "    'svm__C': [0.1, 1, 10, 100,1000],  \n",
    "    'svm__gamma': [1, 0.1, 0.01, 0.001], \n",
    "    'svm__kernel': ['rbf', 'linear', 'poly'],\n",
    "    'svm__class_weight':[\"balanced\"]}\n",
    "\n",
    "search = GridSearchCV(pipe, param_grid, cv=10, iid=False, refit=True)\n",
    "search.fit(X_train, y_train)\n",
    "print(\"Best CV score = %0.3f:\" % search.best_score_)\n",
    "print(\"Best parameters: \", search.best_params_)\n",
    "\n",
    "# store the best params and best model for later use\n",
    "SVM_best_params = search.best_params_\n",
    "SVM_best_model = search.best_estimator_"
   ]
  },
  {
   "cell_type": "markdown",
   "metadata": {
    "id": "Uosz-mUGEK5l"
   },
   "source": [
    "## Random Forest Classifier"
   ]
  },
  {
   "cell_type": "code",
   "execution_count": 18,
   "metadata": {
    "colab": {
     "base_uri": "https://localhost:8080/"
    },
    "id": "upYBV19YEeqV",
    "outputId": "922e572a-890a-48fc-b6ec-91051c67f706"
   },
   "outputs": [
    {
     "name": "stdout",
     "output_type": "stream",
     "text": [
      "RandomForestClassifier(bootstrap=True, ccp_alpha=0.0, class_weight=None,\n",
      "                       criterion='gini', max_depth=None, max_features='auto',\n",
      "                       max_leaf_nodes=None, max_samples=None,\n",
      "                       min_impurity_decrease=0.0, min_impurity_split=None,\n",
      "                       min_samples_leaf=1, min_samples_split=2,\n",
      "                       min_weight_fraction_leaf=0.0, n_estimators=100,\n",
      "                       n_jobs=None, oob_score=False, random_state=None,\n",
      "                       verbose=0, warm_start=False)\n"
     ]
    }
   ],
   "source": [
    "#We find the hyperparameters for RF like we did for SVC\n",
    "# Create the estimator\n",
    "estimator_rf = RandomForestClassifier()\n",
    "#print the estimator\n",
    "print(estimator_rf)"
   ]
  },
  {
   "cell_type": "code",
   "execution_count": 24,
   "metadata": {
    "colab": {
     "base_uri": "https://localhost:8080/",
     "height": 375
    },
    "id": "QB1-WGEhBF9Z",
    "outputId": "72f0a3e9-5729-4d2d-9ad9-72abb0d85046"
   },
   "outputs": [
    {
     "name": "stdout",
     "output_type": "stream",
     "text": [
      "Best CV score = 0.958:\n",
      "Best parameters:  {'rf__max_depth': 4, 'rf__min_samples_leaf': 1, 'rf__min_samples_split': 2, 'rf__n_estimators': 10}\n"
     ]
    },
    {
     "name": "stderr",
     "output_type": "stream",
     "text": [
      "/Users/yuktipatil/opt/anaconda3/lib/python3.8/site-packages/sklearn/model_selection/_search.py:847: FutureWarning: The parameter 'iid' is deprecated in 0.22 and will be removed in 0.24.\n",
      "  warnings.warn(\n"
     ]
    }
   ],
   "source": [
    "\n",
    "# create the pipeline\n",
    "pipe = Pipeline(steps=[('preprocess', preprocess_pipeline), ('rf', estimator_rf)])\n",
    "\n",
    "# prepare a prameter grid\n",
    "# note that __ can be used to specify the name of a parameter for a specific element in a pipeline\n",
    "# note also that this is not an exhaustive list of the parameters of RandomForestClassifier and their possible values\n",
    "param_grid = {\n",
    "    'rf__n_estimators' : [10,20,30,100],#500], #,800],\n",
    "    'rf__max_depth': [2, 4, 6, 8,20,30],\n",
    "    'rf__min_samples_leaf': [1,2,5,10],\n",
    "    'rf__min_samples_split': [2,5,10,15,100]}\n",
    "search = GridSearchCV(pipe, param_grid, cv=10, iid=False, refit=True, n_jobs=6)\n",
    "search.fit(X_train, y_train)\n",
    "print(\"Best CV score = %0.3f:\" % search.best_score_)\n",
    "print(\"Best parameters: \", search.best_params_)\n",
    "search.score\n",
    "# store the best params and best model for later use\n",
    "RF_best_params = search.best_params_\n",
    "RF_best_model = search.best_estimator_"
   ]
  },
  {
   "cell_type": "markdown",
   "metadata": {
    "id": "TxwzhU7jFlhX"
   },
   "source": [
    "## Conclusions:\n",
    "### Using Different hyperparameters and tuning them, it was concluded that higher number of n_estimators played a role in achieving the best score for the model.  \n",
    "### n_estimators - sets the number of decision trees to be used in the forest, it was observed increasing this values took a very long time for the Random forest to run.This is one of the limitation for Random Forest is that a large number of trees can make the algorithm too slow and ineffective for real-time predictions.\n",
    "### max_depth  - Limiting the depth is good for pruning trees to prevent over-fitting on noisy data. If it is not set, the tree will keep expanding until all the leaves are pure.\n",
    "### The minimum number of samples needed before a split (differentiation) is made in an internal node. Default is 2"
   ]
  },
  {
   "cell_type": "markdown",
   "metadata": {
    "id": "tF3nrt2Zz04h"
   },
   "source": [
    "# Looking at the Grid Search Output for Random Forest Classifier"
   ]
  },
  {
   "cell_type": "code",
   "execution_count": 25,
   "metadata": {
    "colab": {
     "base_uri": "https://localhost:8080/",
     "height": 479
    },
    "id": "l9Y6aPxLxVDK",
    "outputId": "3921a395-d21c-4c7c-e494-e12ebc3983cf"
   },
   "outputs": [
    {
     "data": {
      "text/html": [
       "<div>\n",
       "<style scoped>\n",
       "    .dataframe tbody tr th:only-of-type {\n",
       "        vertical-align: middle;\n",
       "    }\n",
       "\n",
       "    .dataframe tbody tr th {\n",
       "        vertical-align: top;\n",
       "    }\n",
       "\n",
       "    .dataframe thead th {\n",
       "        text-align: right;\n",
       "    }\n",
       "</style>\n",
       "<table border=\"1\" class=\"dataframe\">\n",
       "  <thead>\n",
       "    <tr style=\"text-align: right;\">\n",
       "      <th></th>\n",
       "      <th>mean_fit_time</th>\n",
       "      <th>std_fit_time</th>\n",
       "      <th>mean_score_time</th>\n",
       "      <th>std_score_time</th>\n",
       "      <th>param_rf__max_depth</th>\n",
       "      <th>param_rf__min_samples_leaf</th>\n",
       "      <th>param_rf__min_samples_split</th>\n",
       "      <th>param_rf__n_estimators</th>\n",
       "      <th>params</th>\n",
       "      <th>split0_test_score</th>\n",
       "      <th>...</th>\n",
       "      <th>split3_test_score</th>\n",
       "      <th>split4_test_score</th>\n",
       "      <th>split5_test_score</th>\n",
       "      <th>split6_test_score</th>\n",
       "      <th>split7_test_score</th>\n",
       "      <th>split8_test_score</th>\n",
       "      <th>split9_test_score</th>\n",
       "      <th>mean_test_score</th>\n",
       "      <th>std_test_score</th>\n",
       "      <th>rank_test_score</th>\n",
       "    </tr>\n",
       "  </thead>\n",
       "  <tbody>\n",
       "    <tr>\n",
       "      <th>0</th>\n",
       "      <td>0.034730</td>\n",
       "      <td>0.004807</td>\n",
       "      <td>0.009921</td>\n",
       "      <td>0.001257</td>\n",
       "      <td>2</td>\n",
       "      <td>1</td>\n",
       "      <td>2</td>\n",
       "      <td>10</td>\n",
       "      <td>{'rf__max_depth': 2, 'rf__min_samples_leaf': 1, 'rf__min_samples_split': 2, 'rf__n_estimators': 10}</td>\n",
       "      <td>1.0</td>\n",
       "      <td>...</td>\n",
       "      <td>0.882353</td>\n",
       "      <td>0.882353</td>\n",
       "      <td>0.941176</td>\n",
       "      <td>0.882353</td>\n",
       "      <td>1.000000</td>\n",
       "      <td>0.8125</td>\n",
       "      <td>0.8125</td>\n",
       "      <td>0.921324</td>\n",
       "      <td>0.073072</td>\n",
       "      <td>349</td>\n",
       "    </tr>\n",
       "    <tr>\n",
       "      <th>1</th>\n",
       "      <td>0.060515</td>\n",
       "      <td>0.004587</td>\n",
       "      <td>0.011631</td>\n",
       "      <td>0.001374</td>\n",
       "      <td>2</td>\n",
       "      <td>1</td>\n",
       "      <td>2</td>\n",
       "      <td>20</td>\n",
       "      <td>{'rf__max_depth': 2, 'rf__min_samples_leaf': 1, 'rf__min_samples_split': 2, 'rf__n_estimators': 20}</td>\n",
       "      <td>1.0</td>\n",
       "      <td>...</td>\n",
       "      <td>0.823529</td>\n",
       "      <td>0.941176</td>\n",
       "      <td>1.000000</td>\n",
       "      <td>0.882353</td>\n",
       "      <td>0.941176</td>\n",
       "      <td>0.8125</td>\n",
       "      <td>0.8750</td>\n",
       "      <td>0.927574</td>\n",
       "      <td>0.070872</td>\n",
       "      <td>269</td>\n",
       "    </tr>\n",
       "    <tr>\n",
       "      <th>2</th>\n",
       "      <td>0.077656</td>\n",
       "      <td>0.005137</td>\n",
       "      <td>0.011489</td>\n",
       "      <td>0.001754</td>\n",
       "      <td>2</td>\n",
       "      <td>1</td>\n",
       "      <td>2</td>\n",
       "      <td>30</td>\n",
       "      <td>{'rf__max_depth': 2, 'rf__min_samples_leaf': 1, 'rf__min_samples_split': 2, 'rf__n_estimators': 30}</td>\n",
       "      <td>1.0</td>\n",
       "      <td>...</td>\n",
       "      <td>0.882353</td>\n",
       "      <td>0.941176</td>\n",
       "      <td>0.941176</td>\n",
       "      <td>0.882353</td>\n",
       "      <td>0.941176</td>\n",
       "      <td>0.8125</td>\n",
       "      <td>0.8750</td>\n",
       "      <td>0.921691</td>\n",
       "      <td>0.055661</td>\n",
       "      <td>333</td>\n",
       "    </tr>\n",
       "    <tr>\n",
       "      <th>3</th>\n",
       "      <td>0.242533</td>\n",
       "      <td>0.008324</td>\n",
       "      <td>0.024070</td>\n",
       "      <td>0.002534</td>\n",
       "      <td>2</td>\n",
       "      <td>1</td>\n",
       "      <td>2</td>\n",
       "      <td>100</td>\n",
       "      <td>{'rf__max_depth': 2, 'rf__min_samples_leaf': 1, 'rf__min_samples_split': 2, 'rf__n_estimators': 100}</td>\n",
       "      <td>1.0</td>\n",
       "      <td>...</td>\n",
       "      <td>0.823529</td>\n",
       "      <td>0.941176</td>\n",
       "      <td>0.941176</td>\n",
       "      <td>0.882353</td>\n",
       "      <td>0.941176</td>\n",
       "      <td>0.8750</td>\n",
       "      <td>0.8750</td>\n",
       "      <td>0.927941</td>\n",
       "      <td>0.058897</td>\n",
       "      <td>183</td>\n",
       "    </tr>\n",
       "    <tr>\n",
       "      <th>4</th>\n",
       "      <td>0.038051</td>\n",
       "      <td>0.004009</td>\n",
       "      <td>0.009561</td>\n",
       "      <td>0.001657</td>\n",
       "      <td>2</td>\n",
       "      <td>1</td>\n",
       "      <td>5</td>\n",
       "      <td>10</td>\n",
       "      <td>{'rf__max_depth': 2, 'rf__min_samples_leaf': 1, 'rf__min_samples_split': 5, 'rf__n_estimators': 10}</td>\n",
       "      <td>1.0</td>\n",
       "      <td>...</td>\n",
       "      <td>0.823529</td>\n",
       "      <td>0.941176</td>\n",
       "      <td>0.941176</td>\n",
       "      <td>0.882353</td>\n",
       "      <td>0.941176</td>\n",
       "      <td>0.8125</td>\n",
       "      <td>0.8750</td>\n",
       "      <td>0.909926</td>\n",
       "      <td>0.062332</td>\n",
       "      <td>379</td>\n",
       "    </tr>\n",
       "  </tbody>\n",
       "</table>\n",
       "<p>5 rows × 22 columns</p>\n",
       "</div>"
      ],
      "text/plain": [
       "   mean_fit_time  std_fit_time  mean_score_time  std_score_time  \\\n",
       "0  0.034730       0.004807      0.009921         0.001257         \n",
       "1  0.060515       0.004587      0.011631         0.001374         \n",
       "2  0.077656       0.005137      0.011489         0.001754         \n",
       "3  0.242533       0.008324      0.024070         0.002534         \n",
       "4  0.038051       0.004009      0.009561         0.001657         \n",
       "\n",
       "  param_rf__max_depth param_rf__min_samples_leaf param_rf__min_samples_split  \\\n",
       "0  2                   1                          2                            \n",
       "1  2                   1                          2                            \n",
       "2  2                   1                          2                            \n",
       "3  2                   1                          2                            \n",
       "4  2                   1                          5                            \n",
       "\n",
       "  param_rf__n_estimators  \\\n",
       "0  10                      \n",
       "1  20                      \n",
       "2  30                      \n",
       "3  100                     \n",
       "4  10                      \n",
       "\n",
       "                                                                                                 params  \\\n",
       "0  {'rf__max_depth': 2, 'rf__min_samples_leaf': 1, 'rf__min_samples_split': 2, 'rf__n_estimators': 10}    \n",
       "1  {'rf__max_depth': 2, 'rf__min_samples_leaf': 1, 'rf__min_samples_split': 2, 'rf__n_estimators': 20}    \n",
       "2  {'rf__max_depth': 2, 'rf__min_samples_leaf': 1, 'rf__min_samples_split': 2, 'rf__n_estimators': 30}    \n",
       "3  {'rf__max_depth': 2, 'rf__min_samples_leaf': 1, 'rf__min_samples_split': 2, 'rf__n_estimators': 100}   \n",
       "4  {'rf__max_depth': 2, 'rf__min_samples_leaf': 1, 'rf__min_samples_split': 5, 'rf__n_estimators': 10}    \n",
       "\n",
       "   split0_test_score  ...  split3_test_score  split4_test_score  \\\n",
       "0  1.0                ...  0.882353           0.882353            \n",
       "1  1.0                ...  0.823529           0.941176            \n",
       "2  1.0                ...  0.882353           0.941176            \n",
       "3  1.0                ...  0.823529           0.941176            \n",
       "4  1.0                ...  0.823529           0.941176            \n",
       "\n",
       "   split5_test_score  split6_test_score  split7_test_score  split8_test_score  \\\n",
       "0  0.941176           0.882353           1.000000           0.8125              \n",
       "1  1.000000           0.882353           0.941176           0.8125              \n",
       "2  0.941176           0.882353           0.941176           0.8125              \n",
       "3  0.941176           0.882353           0.941176           0.8750              \n",
       "4  0.941176           0.882353           0.941176           0.8125              \n",
       "\n",
       "   split9_test_score  mean_test_score  std_test_score  rank_test_score  \n",
       "0  0.8125             0.921324         0.073072        349              \n",
       "1  0.8750             0.927574         0.070872        269              \n",
       "2  0.8750             0.921691         0.055661        333              \n",
       "3  0.8750             0.927941         0.058897        183              \n",
       "4  0.8750             0.909926         0.062332        379              \n",
       "\n",
       "[5 rows x 22 columns]"
      ]
     },
     "execution_count": 25,
     "metadata": {},
     "output_type": "execute_result"
    }
   ],
   "source": [
    "gs=pd.DataFrame(search.cv_results_)\n",
    "gs.head()\n"
   ]
  },
  {
   "cell_type": "markdown",
   "metadata": {
    "id": "cOWMF3z5zxty"
   },
   "source": [
    "### We set the cross fold validation to 10; cv= 10, This means it ran 10 times and stored the average and standard deviation of the times it took in seconds.\n",
    "\n",
    "### The \"time\" columns refer to the time it took to fit and score the model\n",
    "### The param_ columns contain information on the different parameters that were used in the model. Each row in this Dataframe is equal to one model. i.e. Row 1 ran for 'rf__max_depth': 2, 'rf__min_samples_leaf': 1, 'rf__min_samples_split': 2, 'rf__n_estimators': 10\n",
    "### The params column contains a dictionary of all the parameters"
   ]
  },
  {
   "cell_type": "code",
   "execution_count": 26,
   "metadata": {
    "colab": {
     "base_uri": "https://localhost:8080/"
    },
    "id": "C2V-MB301zN0",
    "outputId": "cc6dacfe-3265-44e2-e9a7-8e48cf4c1ce0"
   },
   "outputs": [
    {
     "name": "stdout",
     "output_type": "stream",
     "text": [
      "0      {'rf__max_depth': 2, 'rf__min_samples_leaf': 1, 'rf__min_samples_split': 2, 'rf__n_estimators': 10}     \n",
      "1      {'rf__max_depth': 2, 'rf__min_samples_leaf': 1, 'rf__min_samples_split': 2, 'rf__n_estimators': 20}     \n",
      "2      {'rf__max_depth': 2, 'rf__min_samples_leaf': 1, 'rf__min_samples_split': 2, 'rf__n_estimators': 30}     \n",
      "3      {'rf__max_depth': 2, 'rf__min_samples_leaf': 1, 'rf__min_samples_split': 2, 'rf__n_estimators': 100}    \n",
      "4      {'rf__max_depth': 2, 'rf__min_samples_leaf': 1, 'rf__min_samples_split': 5, 'rf__n_estimators': 10}     \n",
      "                                                      ...                                                      \n",
      "475    {'rf__max_depth': 30, 'rf__min_samples_leaf': 10, 'rf__min_samples_split': 15, 'rf__n_estimators': 100} \n",
      "476    {'rf__max_depth': 30, 'rf__min_samples_leaf': 10, 'rf__min_samples_split': 100, 'rf__n_estimators': 10} \n",
      "477    {'rf__max_depth': 30, 'rf__min_samples_leaf': 10, 'rf__min_samples_split': 100, 'rf__n_estimators': 20} \n",
      "478    {'rf__max_depth': 30, 'rf__min_samples_leaf': 10, 'rf__min_samples_split': 100, 'rf__n_estimators': 30} \n",
      "479    {'rf__max_depth': 30, 'rf__min_samples_leaf': 10, 'rf__min_samples_split': 100, 'rf__n_estimators': 100}\n",
      "Name: params, Length: 480, dtype: object\n"
     ]
    },
    {
     "name": "stderr",
     "output_type": "stream",
     "text": [
      "<ipython-input-26-ee54e07ed1da>:1: FutureWarning: Passing a negative integer is deprecated in version 1.0 and will not be supported in future version. Instead, use None to not limit the column width.\n",
      "  pd.set_option(\"display.max_colwidth\",-1)\n"
     ]
    }
   ],
   "source": [
    "pd.set_option(\"display.max_colwidth\",-1)  \n",
    "#use set_option to not truncate the results to be printed\n",
    "print(gs.loc[:,\"params\"])"
   ]
  },
  {
   "cell_type": "markdown",
   "metadata": {
    "id": "L9h2Fleg2sDW"
   },
   "source": [
    "### The test_score columns contain the scores on the test set for each of the cross-folds.\n",
    "\n",
    "### The rank_column ranks the rows by the mean_test_score from best to worst.\n",
    "\n",
    "### Using the rank_column (rank_test_score) we can easily get the best grid squares from the grid Search"
   ]
  },
  {
   "cell_type": "code",
   "execution_count": 27,
   "metadata": {
    "colab": {
     "base_uri": "https://localhost:8080/",
     "height": 315
    },
    "id": "1bv4lBE43tOh",
    "outputId": "013fc35b-fd10-4df5-d94c-f591e3321b20"
   },
   "outputs": [
    {
     "data": {
      "text/html": [
       "<div>\n",
       "<style scoped>\n",
       "    .dataframe tbody tr th:only-of-type {\n",
       "        vertical-align: middle;\n",
       "    }\n",
       "\n",
       "    .dataframe tbody tr th {\n",
       "        vertical-align: top;\n",
       "    }\n",
       "\n",
       "    .dataframe thead th {\n",
       "        text-align: right;\n",
       "    }\n",
       "</style>\n",
       "<table border=\"1\" class=\"dataframe\">\n",
       "  <thead>\n",
       "    <tr style=\"text-align: right;\">\n",
       "      <th></th>\n",
       "      <th>mean_fit_time</th>\n",
       "      <th>std_fit_time</th>\n",
       "      <th>mean_score_time</th>\n",
       "      <th>std_score_time</th>\n",
       "      <th>param_rf__max_depth</th>\n",
       "      <th>param_rf__min_samples_leaf</th>\n",
       "      <th>param_rf__min_samples_split</th>\n",
       "      <th>param_rf__n_estimators</th>\n",
       "      <th>params</th>\n",
       "      <th>split0_test_score</th>\n",
       "      <th>...</th>\n",
       "      <th>split3_test_score</th>\n",
       "      <th>split4_test_score</th>\n",
       "      <th>split5_test_score</th>\n",
       "      <th>split6_test_score</th>\n",
       "      <th>split7_test_score</th>\n",
       "      <th>split8_test_score</th>\n",
       "      <th>split9_test_score</th>\n",
       "      <th>mean_test_score</th>\n",
       "      <th>std_test_score</th>\n",
       "      <th>rank_test_score</th>\n",
       "    </tr>\n",
       "  </thead>\n",
       "  <tbody>\n",
       "    <tr>\n",
       "      <th>80</th>\n",
       "      <td>0.040246</td>\n",
       "      <td>0.003528</td>\n",
       "      <td>0.010187</td>\n",
       "      <td>0.001235</td>\n",
       "      <td>4</td>\n",
       "      <td>1</td>\n",
       "      <td>2</td>\n",
       "      <td>10</td>\n",
       "      <td>{'rf__max_depth': 4, 'rf__min_samples_leaf': 1, 'rf__min_samples_split': 2, 'rf__n_estimators': 10}</td>\n",
       "      <td>1.0</td>\n",
       "      <td>...</td>\n",
       "      <td>0.882353</td>\n",
       "      <td>0.941176</td>\n",
       "      <td>0.941176</td>\n",
       "      <td>0.882353</td>\n",
       "      <td>1.0</td>\n",
       "      <td>1.0</td>\n",
       "      <td>0.9375</td>\n",
       "      <td>0.958456</td>\n",
       "      <td>0.046097</td>\n",
       "      <td>1</td>\n",
       "    </tr>\n",
       "  </tbody>\n",
       "</table>\n",
       "<p>1 rows × 22 columns</p>\n",
       "</div>"
      ],
      "text/plain": [
       "    mean_fit_time  std_fit_time  mean_score_time  std_score_time  \\\n",
       "80  0.040246       0.003528      0.010187         0.001235         \n",
       "\n",
       "   param_rf__max_depth param_rf__min_samples_leaf param_rf__min_samples_split  \\\n",
       "80  4                   1                          2                            \n",
       "\n",
       "   param_rf__n_estimators  \\\n",
       "80  10                      \n",
       "\n",
       "                                                                                                 params  \\\n",
       "80  {'rf__max_depth': 4, 'rf__min_samples_leaf': 1, 'rf__min_samples_split': 2, 'rf__n_estimators': 10}   \n",
       "\n",
       "    split0_test_score  ...  split3_test_score  split4_test_score  \\\n",
       "80  1.0                ...  0.882353           0.941176            \n",
       "\n",
       "    split5_test_score  split6_test_score  split7_test_score  \\\n",
       "80  0.941176           0.882353           1.0                 \n",
       "\n",
       "    split8_test_score  split9_test_score  mean_test_score  std_test_score  \\\n",
       "80  1.0                0.9375             0.958456         0.046097         \n",
       "\n",
       "    rank_test_score  \n",
       "80  1                \n",
       "\n",
       "[1 rows x 22 columns]"
      ]
     },
     "execution_count": 27,
     "metadata": {},
     "output_type": "execute_result"
    }
   ],
   "source": [
    "best_row = gs[gs[\"rank_test_score\"] == 1]\n",
    "best_row"
   ]
  },
  {
   "cell_type": "markdown",
   "metadata": {
    "id": "s7FJlGzu48P0"
   },
   "source": [
    "### The Grid Search CV gives out the best_estimator, best_params, best_score based on the best_index - which is the index that corresponds to the best candidate parameter setting."
   ]
  },
  {
   "cell_type": "code",
   "execution_count": 28,
   "metadata": {
    "colab": {
     "base_uri": "https://localhost:8080/"
    },
    "id": "efp3-IR-4pxO",
    "outputId": "5ece73b7-5107-49f6-9770-79f68a19c611"
   },
   "outputs": [
    {
     "name": "stdout",
     "output_type": "stream",
     "text": [
      "Best Index  :  80\n",
      "Best CV score = 0.958:\n",
      "Best parameters:  {'rf__max_depth': 4, 'rf__min_samples_leaf': 1, 'rf__min_samples_split': 2, 'rf__n_estimators': 10}\n"
     ]
    }
   ],
   "source": [
    "print(\"Best Index  : \" ,search.best_index_)\n",
    "print(\"Best CV score = %0.3f:\" % search.best_score_)\n",
    "print(\"Best parameters: \", search.best_params_)"
   ]
  },
  {
   "cell_type": "markdown",
   "metadata": {
    "id": "VV1s-u2lGX7J"
   },
   "source": [
    "# Use Another Classifier : MLP Classifier"
   ]
  },
  {
   "cell_type": "markdown",
   "metadata": {
    "id": "dYOw7DzaG1lv"
   },
   "source": [
    "### without any parameters -CV Score 0.952"
   ]
  },
  {
   "cell_type": "code",
   "execution_count": 29,
   "metadata": {
    "id": "-SCE0hkJGbYN"
   },
   "outputs": [
    {
     "name": "stdout",
     "output_type": "stream",
     "text": [
      "Best CV score = 0.952:\n",
      "Best parameters:  {}\n"
     ]
    },
    {
     "name": "stderr",
     "output_type": "stream",
     "text": [
      "/Users/yuktipatil/opt/anaconda3/lib/python3.8/site-packages/sklearn/neural_network/_multilayer_perceptron.py:582: ConvergenceWarning: Stochastic Optimizer: Maximum iterations (100) reached and the optimization hasn't converged yet.\n",
      "  warnings.warn(\n"
     ]
    }
   ],
   "source": [
    "#MLP Classifier - GridSearch \n",
    "# create the pipeline\n",
    "pipe3 = Pipeline(steps=[('preprocess', preprocess_pipeline), ('mlp', MLPClassifier(max_iter=100))])\n",
    "\n",
    "parameters = {}\n",
    "\n",
    "search3 = GridSearchCV(pipe3, parameters, n_jobs=-1, cv=3)\n",
    "search3.fit(X_train, y_train)\n",
    "print(\"Best CV score = %0.3f:\" % search3.best_score_)\n",
    "print(\"Best parameters: \", search3.best_params_)"
   ]
  },
  {
   "cell_type": "markdown",
   "metadata": {
    "id": "CicJOuE2G5-P"
   },
   "source": [
    "### with parameters - CV Score - 0.988\n",
    "\n",
    "we can also set, n_jobs for grid search CV. We can set this by checking how many cores are available."
   ]
  },
  {
   "cell_type": "code",
   "execution_count": 23,
   "metadata": {
    "colab": {
     "base_uri": "https://localhost:8080/"
    },
    "id": "goK0gpvRHjAQ",
    "outputId": "f08f0710-6460-401f-f8eb-742eb4c44b3e"
   },
   "outputs": [
    {
     "data": {
      "text/plain": [
       "8"
      ]
     },
     "execution_count": 23,
     "metadata": {},
     "output_type": "execute_result"
    }
   ],
   "source": [
    "import os\n",
    "os.cpu_count()"
   ]
  },
  {
   "cell_type": "code",
   "execution_count": 30,
   "metadata": {
    "id": "Ed1Vt3lnGW5d"
   },
   "outputs": [
    {
     "name": "stdout",
     "output_type": "stream",
     "text": [
      "Best CV score = 0.988:\n",
      "Best parameters:  {'mlp__alpha': 0.1, 'mlp__hidden_layer_sizes': 14, 'mlp__max_iter': 1000, 'mlp__random_state': 0, 'mlp__solver': 'lbfgs'}\n"
     ]
    }
   ],
   "source": [
    "#MLP Classifier - GridSearch \n",
    "# create the pipeline\n",
    "pipe3 = Pipeline(steps=[('preprocess', preprocess_pipeline), ('mlp', MLPClassifier(max_iter=100))])\n",
    "\n",
    "parameters = {\n",
    "    'mlp__solver': ['lbfgs'], \n",
    "    'mlp__max_iter': [1000,1100,1200,1300,1400,1500,1600,1700,1800,1900,2000 ], \n",
    "    'mlp__alpha': 10.0 ** -np.arange(1, 10), \n",
    "    'mlp__hidden_layer_sizes':np.arange(10, 15),\n",
    "     'mlp__random_state':[0,1,2,3,4,5,6,7,8,9]}\n",
    "\n",
    "search3 = GridSearchCV(pipe3, parameters, n_jobs=4, cv=3)\n",
    "search3.fit(X_train, y_train)\n",
    "print(\"Best CV score = %0.3f:\" % search3.best_score_)\n",
    "print(\"Best parameters: \", search3.best_params_)\n",
    "\n",
    "# store the best params and best model for later use\n",
    "MLP_best_params = search3.best_params_\n",
    "MLP_best_model = search3.best_estimator_"
   ]
  },
  {
   "cell_type": "markdown",
   "metadata": {
    "id": "rvSu8I-iHuG_"
   },
   "source": [
    "## We see that having parameters and tuning the model, helps improving the score\n",
    "### MLP has the best CV score when compared to Random forest and SVC"
   ]
  },
  {
   "cell_type": "code",
   "execution_count": 31,
   "metadata": {
    "id": "JVrVSxl6CpE5"
   },
   "outputs": [],
   "source": [
    "#Compare classifiers on test\n",
    "mean_fpr = np.linspace(start=0, stop=1, num=100)"
   ]
  },
  {
   "cell_type": "code",
   "execution_count": 32,
   "metadata": {
    "id": "VqgAnJqEDNlu"
   },
   "outputs": [],
   "source": [
    "# model - a trained binary probabilistic classification model;\n",
    "#         it is assumed that there are two classes: 0 and 1\n",
    "#         and the classifier learns to predict probabilities for the examples to belong to class 1\n",
    "\n",
    "def evaluate_model(X_test, y_test, model):\n",
    "    # compute probabilistic predictiond for the evaluation set\n",
    "    _probabilities = model.predict_proba(X_test)[:, 1]\n",
    "    \n",
    "    # compute exact predictiond for the evaluation set\n",
    "    _predicted_values = model.predict(X_test)\n",
    "        \n",
    "    # compute accuracy\n",
    "    _accuracy = accuracy_score(y_test, _predicted_values)\n",
    "        \n",
    "    # compute precision, recall and f1 score for class 1\n",
    "    _precision, _recall, _f1_score, _ = precision_recall_fscore_support(y_test, _predicted_values, labels=[1])\n",
    "    \n",
    "    # compute fpr and tpr values for various thresholds \n",
    "    # by comparing the true target values to the predicted probabilities for class 1\n",
    "    _fpr, _tpr, _ = roc_curve(y_test, _probabilities)\n",
    "        \n",
    "    # compute true positive rates for the values in the array mean_fpr\n",
    "    _tpr_transformed = np.array([interp(mean_fpr, _fpr, _tpr)])\n",
    "    \n",
    "    # compute the area under the curve\n",
    "    _auc = auc(_fpr, _tpr)\n",
    "            \n",
    "    return _accuracy, _precision[0], _recall[0], _f1_score[0], _tpr_transformed, _auc"
   ]
  },
  {
   "cell_type": "code",
   "execution_count": 33,
   "metadata": {
    "colab": {
     "base_uri": "https://localhost:8080/"
    },
    "id": "JAObo0f2DQQP",
    "outputId": "08ca047f-94ec-4952-d9a0-d2f9c4c36b37"
   },
   "outputs": [
    {
     "name": "stderr",
     "output_type": "stream",
     "text": [
      "<ipython-input-32-e712ba2ef97f>:23: DeprecationWarning: scipy.interp is deprecated and will be removed in SciPy 2.0.0, use numpy.interp instead\n",
      "  _tpr_transformed = np.array([interp(mean_fpr, _fpr, _tpr)])\n",
      "<ipython-input-32-e712ba2ef97f>:23: DeprecationWarning: scipy.interp is deprecated and will be removed in SciPy 2.0.0, use numpy.interp instead\n",
      "  _tpr_transformed = np.array([interp(mean_fpr, _fpr, _tpr)])\n",
      "<ipython-input-32-e712ba2ef97f>:23: DeprecationWarning: scipy.interp is deprecated and will be removed in SciPy 2.0.0, use numpy.interp instead\n",
      "  _tpr_transformed = np.array([interp(mean_fpr, _fpr, _tpr)])\n"
     ]
    }
   ],
   "source": [
    "SVM_accuracy, SVM_precision, SVM_recall, SVM_f1_score, SVM_tpr, SVM_auc = evaluate_model(X_test, y_test, SVM_best_model)\n",
    "RF_accuracy, RF_precision, RF_recall, RF_f1_score, RF_tpr, RF_auc = evaluate_model(X_test, y_test, RF_best_model)\n",
    "MLP_accuracy, MLP_precision, MLP_recall, MLP_f1_score,MLP_tpr, MLP_auc = evaluate_model(X_test, y_test, MLP_best_model)"
   ]
  },
  {
   "cell_type": "code",
   "execution_count": 35,
   "metadata": {
    "colab": {
     "base_uri": "https://localhost:8080/",
     "height": 269
    },
    "id": "K6zALGSMDSRX",
    "outputId": "5a82c529-2d31-42c6-d7fe-2e183a1ff3f8"
   },
   "outputs": [
    {
     "data": {
      "image/png": "[encoded data removed]",
      "text/plain": [
       "<Figure size 432x288 with 1 Axes>"
      ]
     },
     "metadata": {
      "needs_background": "light"
     },
     "output_type": "display_data"
    }
   ],
   "source": [
    "SVM_metrics = np.array([SVM_accuracy, SVM_precision, SVM_recall, SVM_f1_score])\n",
    "RF_metrics = np.array([RF_accuracy, RF_precision, RF_recall, RF_f1_score])\n",
    "mlp_metrics = np.array([MLP_accuracy, MLP_precision, MLP_recall, MLP_f1_score])\n",
    "index = ['accuracy', 'precision', 'recall', 'F1-score']\n",
    "df_metrics = pd.DataFrame({'SVM': SVM_metrics, 'Random Forest': RF_metrics,'MLP':mlp_metrics}, index=index)\n",
    "df_metrics.plot.bar(rot=0)\n",
    "plt.legend(loc=\"lower right\")\n",
    "plt.show()"
   ]
  },
  {
   "cell_type": "markdown",
   "metadata": {},
   "source": [
    "# Analysis\n",
    "\n",
    "SVC performs slightly better than Random Forest. Accuracy of SVC is higher. Recall and Precision are higher too in SVC. So the percentage of correct detection and class being identified correctly is higher in SVM.\n",
    "Used the MLP classifier\n",
    "MLP is a neural network classifier, it requires more data to be highly effective. But the goal here it to create a prediction model and compare it with different classifiers without much caring for the variables. So used the MLP classifier\n",
    "SVC and MLP have the same recall,precision and accuracy.\n",
    "\n",
    "Do the ROC curves help in picking the best classifier in this case?\n",
    "ROC curves show SVC and MLP perform better than Random forest. Boith SVC and MLP give a curve closer to the 45 degree diagonal."
   ]
  },
  {
   "cell_type": "markdown",
   "metadata": {
    "id": "K11YcVGGDVPP"
   },
   "source": [
    "# Examine the ROC curves of the two classifiers"
   ]
  },
  {
   "cell_type": "code",
   "execution_count": 37,
   "metadata": {
    "colab": {
     "base_uri": "https://localhost:8080/",
     "height": 295
    },
    "id": "-pAr0-CkGcMm",
    "outputId": "05058444-2bf2-4155-ea34-9bf7b759a52b"
   },
   "outputs": [
    {
     "data": {
      "image/png": "[encoded data removed]",
      "text/plain": [
       "<Figure size 432x288 with 1 Axes>"
      ]
     },
     "metadata": {
      "needs_background": "light"
     },
     "output_type": "display_data"
    }
   ],
   "source": [
    "plt.plot([0, 1], [0, 1], linestyle='--', lw=2, color='r', label='Chance', alpha=0.8)\n",
    "plt.plot(mean_fpr, SVM_tpr[0,:], lw=2, color='blue', label='SVM (AUC = %0.2f)' % (SVM_auc), alpha=0.8)\n",
    "plt.plot(mean_fpr, RF_tpr[0,:], lw=2, color='orange', label='Random Forest (AUC = %0.2f)' % (RF_auc), alpha=0.8)\n",
    "plt.plot(mean_fpr, MLP_tpr[0,:],lw=2,color='green', label = 'MLP AUC = %0.2f' % (MLP_auc),alpha=0.8)\n",
    "plt.xlabel('False Positive Rate')\n",
    "plt.ylabel('True Positive Rate')\n",
    "plt.title('ROC curves for multiple classifiers')\n",
    "plt.legend(loc=\"lower right\")\n",
    "plt.show()"
   ]
  },
  {
   "cell_type": "markdown",
   "metadata": {
    "id": "aYmJ5g4hLY9Y"
   },
   "source": [
    "Finally, we can train an SVM model or MLP with all data we have, assuming that the more data we have the better the model."
   ]
  },
  {
   "cell_type": "code",
   "execution_count": 39,
   "metadata": {
    "id": "LQ89fJC5gRXw"
   },
   "outputs": [],
   "source": [
    "# function to remove the string 'svm__' from the names of the parameters in SVM_best_params\n",
    "def transform(dict):\n",
    "    return {key.replace('svm__','') :  value for key, value in dict.items()}\n",
    "\n",
    "pipe = make_pipeline(preprocess_pipeline, svm.SVC(**transform(SVM_best_params)))\n",
    "\n",
    "final_model1 =pipe.fit(X, y)"
   ]
  },
  {
   "cell_type": "code",
   "execution_count": 40,
   "metadata": {
    "id": "DqaqUJ-6pOk6"
   },
   "outputs": [],
   "source": [
    "# function to remove the string 'mlp__' from the names of the parameters in SVM_best_params\n",
    "\n",
    "def transform(dict):\n",
    "    return {key.replace('mlp__','') :  value for key, value in dict.items()}\n",
    "\n",
    "pipe = make_pipeline(preprocess_pipeline, MLPClassifier(**transform(MLP_best_params)))\n",
    "\n",
    "final_model2 =pipe.fit(X, y)"
   ]
  },
  {
   "cell_type": "code",
   "execution_count": null,
   "metadata": {},
   "outputs": [],
   "source": []
  }
 ],
 "metadata": {
  "colab": {
   "name": "Etivity4.ipynb",
   "provenance": []
  },
  "kernelspec": {
   "display_name": "Python 3",
   "language": "python",
   "name": "python3"
  },
  "language_info": {
   "codemirror_mode": {
    "name": "ipython",
    "version": 3
   },
   "file_extension": ".py",
   "mimetype": "text/x-python",
   "name": "python",
   "nbconvert_exporter": "python",
   "pygments_lexer": "ipython3",
   "version": "3.8.5"
  }
 },
 "nbformat": 4,
 "nbformat_minor": 4
}